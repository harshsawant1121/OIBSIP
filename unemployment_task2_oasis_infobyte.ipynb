{
 "cells": [
  {
   "cell_type": "code",
   "execution_count": 1,
   "id": "7b6271c1",
   "metadata": {},
   "outputs": [],
   "source": [
    "#Name - Harsh Sawant\n",
    "#Task2- Unemployment in India"
   ]
  },
  {
   "cell_type": "code",
   "execution_count": null,
   "id": "8427c50d",
   "metadata": {},
   "outputs": [],
   "source": [
    "import numpy as np\n",
    "import pandas as pd\n",
    "import matplotlib.pyplot as plt\n",
    "import seaborn as sns\n"
   ]
  },
  {
   "cell_type": "code",
   "execution_count": null,
   "id": "ad986822",
   "metadata": {},
   "outputs": [],
   "source": [
    "df=pd.read_csv('Unemployment.csv')"
   ]
  },
  {
   "cell_type": "code",
   "execution_count": null,
   "id": "1173f17c",
   "metadata": {},
   "outputs": [],
   "source": [
    "df.columns"
   ]
  },
  {
   "cell_type": "code",
   "execution_count": null,
   "id": "d55b3996",
   "metadata": {},
   "outputs": [],
   "source": [
    "df.describe()"
   ]
  },
  {
   "cell_type": "code",
   "execution_count": null,
   "id": "882ea5d0",
   "metadata": {},
   "outputs": [],
   "source": [
    "df.isnull().sum()"
   ]
  },
  {
   "cell_type": "code",
   "execution_count": null,
   "id": "15d98402",
   "metadata": {},
   "outputs": [],
   "source": [
    "df = df.rename(columns={df.columns[0]:'State',df.columns[3]:'EUR',df.columns[4]:'EE', df.columns[5]:'ELPR', df.columns[6]:'Region'})\n",
    "df.head()"
   ]
  },
  {
   "cell_type": "code",
   "execution_count": null,
   "id": "3cffd5dd",
   "metadata": {},
   "outputs": [],
   "source": [
    "df[\"Region\"].unique()"
   ]
  },
  {
   "cell_type": "code",
   "execution_count": null,
   "id": "fbd089f5",
   "metadata": {},
   "outputs": [],
   "source": [
    "df[\"State\"].unique()"
   ]
  },
  {
   "cell_type": "code",
   "execution_count": null,
   "id": "07989177",
   "metadata": {},
   "outputs": [],
   "source": [
    "df.groupby(\"Region\").size()"
   ]
  },
  {
   "cell_type": "code",
   "execution_count": null,
   "id": "e1274a1c",
   "metadata": {},
   "outputs": [],
   "source": [
    "region_stats = df.groupby(['Region'])[['EUR','EE','ELPR']].mean().reset_index()\n",
    "region_stats = round(region_stats,2)\n",
    "region_stats"
   ]
  },
  {
   "cell_type": "code",
   "execution_count": null,
   "id": "10e57b48",
   "metadata": {},
   "outputs": [],
   "source": [
    "heat_maps = df[['EUR','EE', 'ELPR','longitude', 'latitude']]\n",
    "\n",
    "heat_maps = heat_maps.corr()\n",
    "\n",
    "plt.figure(figsize=(10,6))\n",
    "sns.set_context('notebook',font_scale=1)\n",
    "sns.heatmap(heat_maps, annot=True,cmap='summer');"
   ]
  },
  {
   "cell_type": "code",
   "execution_count": null,
   "id": "60f768ca",
   "metadata": {},
   "outputs": [],
   "source": [
    "df.columns= [\"State\",\"Date\",\"Frequency\",\"EUR\",\"EE\",\"ELPR\",\"Region\",\"longitude\",\"latitude\"]\n",
    "\n",
    "plt.figure(figsize=(10, 8))\n",
    "plt.title(\"Unemployment Rate\")\n",
    "sns.histplot(x=\"EUR\", hue=\"Region\", data=df)\n",
    "plt.show()"
   ]
  },
  {
   "cell_type": "code",
   "execution_count": null,
   "id": "bec09fc7",
   "metadata": {},
   "outputs": [],
   "source": [
    "import plotly.express as px\n",
    "region = df.groupby([\"Region\"])[['EUR', \"EE\", \"ELPR\"]].mean()\n",
    "region = pd.DataFrame(region).reset_index()\n",
    "\n",
    "fig = px.bar(region, x=\"Region\", y=\"EUR\", color=\"Region\", title=\"Average Unemployment Rate by Region\")\n",
    "fig.update_layout(xaxis={'categoryorder':'total descending'})\n",
    "fig.show()"
   ]
  },
  {
   "cell_type": "code",
   "execution_count": null,
   "id": "083a4bc0",
   "metadata": {},
   "outputs": [],
   "source": [
    "unemployment = df[[\"State\", \"Region\", \"EUR\"]]\n",
    "\n",
    "fig = px.sunburst(unemployment, path=['Region','State'], values='EUR',\n",
    "                  title= 'Unemployment rate in every State and Region', height=650)\n",
    "fig.show()"
   ]
  },
  {
   "cell_type": "code",
   "execution_count": null,
   "id": "77c3ecde",
   "metadata": {},
   "outputs": [],
   "source": [
    "# Thank You !!"
   ]
  }
 ],
 "metadata": {
  "kernelspec": {
   "display_name": "Python 3",
   "language": "python",
   "name": "python3"
  },
  "language_info": {
   "codemirror_mode": {
    "name": "ipython",
    "version": 3
   },
   "file_extension": ".py",
   "mimetype": "text/x-python",
   "name": "python",
   "nbconvert_exporter": "python",
   "pygments_lexer": "ipython3",
   "version": "3.8.8"
  }
 },
 "nbformat": 4,
 "nbformat_minor": 5
}
